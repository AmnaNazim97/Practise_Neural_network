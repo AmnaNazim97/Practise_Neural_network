{
  "nbformat": 4,
  "nbformat_minor": 0,
  "metadata": {
    "colab": {
      "name": "practise_IMDB0.ipynb",
      "version": "0.3.2",
      "provenance": [],
      "collapsed_sections": []
    },
    "kernelspec": {
      "name": "python3",
      "display_name": "Python 3"
    }
  },
  "cells": [
    {
      "cell_type": "code",
      "metadata": {
        "id": "J4NNq60akwaz",
        "colab_type": "code",
        "outputId": "4940d9dd-01e2-4ebb-80ee-ae42efc5ff2e",
        "colab": {
          "base_uri": "https://localhost:8080/",
          "height": 70
        }
      },
      "source": [
        "import numpy as np\n",
        "from keras.datasets import imdb\n",
        "np_load_old = np.load\n",
        "np.load = lambda*a , **k : np_load_old(*a , allow_pickle = True , **k)\n",
        "(train_data , train_labels), (test_data , test_labels) = imdb.load_data(num_words= 10000)\n",
        "np.load = np_load_old"
      ],
      "execution_count": 0,
      "outputs": [
        {
          "output_type": "stream",
          "text": [
            "Using TensorFlow backend.\n"
          ],
          "name": "stderr"
        },
        {
          "output_type": "stream",
          "text": [
            "Downloading data from https://s3.amazonaws.com/text-datasets/imdb.npz\n",
            "17465344/17464789 [==============================] - 3s 0us/step\n"
          ],
          "name": "stdout"
        }
      ]
    },
    {
      "cell_type": "code",
      "metadata": {
        "id": "bv2_REQ1qpIT",
        "colab_type": "code",
        "outputId": "797bb48e-682e-4df6-f7fb-1c4d3d5e2c85",
        "colab": {
          "base_uri": "https://localhost:8080/",
          "height": 1000
        }
      },
      "source": [
        "train_data[1]"
      ],
      "execution_count": 0,
      "outputs": [
        {
          "output_type": "execute_result",
          "data": {
            "text/plain": [
              "[1,\n",
              " 194,\n",
              " 1153,\n",
              " 194,\n",
              " 8255,\n",
              " 78,\n",
              " 228,\n",
              " 5,\n",
              " 6,\n",
              " 1463,\n",
              " 4369,\n",
              " 5012,\n",
              " 134,\n",
              " 26,\n",
              " 4,\n",
              " 715,\n",
              " 8,\n",
              " 118,\n",
              " 1634,\n",
              " 14,\n",
              " 394,\n",
              " 20,\n",
              " 13,\n",
              " 119,\n",
              " 954,\n",
              " 189,\n",
              " 102,\n",
              " 5,\n",
              " 207,\n",
              " 110,\n",
              " 3103,\n",
              " 21,\n",
              " 14,\n",
              " 69,\n",
              " 188,\n",
              " 8,\n",
              " 30,\n",
              " 23,\n",
              " 7,\n",
              " 4,\n",
              " 249,\n",
              " 126,\n",
              " 93,\n",
              " 4,\n",
              " 114,\n",
              " 9,\n",
              " 2300,\n",
              " 1523,\n",
              " 5,\n",
              " 647,\n",
              " 4,\n",
              " 116,\n",
              " 9,\n",
              " 35,\n",
              " 8163,\n",
              " 4,\n",
              " 229,\n",
              " 9,\n",
              " 340,\n",
              " 1322,\n",
              " 4,\n",
              " 118,\n",
              " 9,\n",
              " 4,\n",
              " 130,\n",
              " 4901,\n",
              " 19,\n",
              " 4,\n",
              " 1002,\n",
              " 5,\n",
              " 89,\n",
              " 29,\n",
              " 952,\n",
              " 46,\n",
              " 37,\n",
              " 4,\n",
              " 455,\n",
              " 9,\n",
              " 45,\n",
              " 43,\n",
              " 38,\n",
              " 1543,\n",
              " 1905,\n",
              " 398,\n",
              " 4,\n",
              " 1649,\n",
              " 26,\n",
              " 6853,\n",
              " 5,\n",
              " 163,\n",
              " 11,\n",
              " 3215,\n",
              " 2,\n",
              " 4,\n",
              " 1153,\n",
              " 9,\n",
              " 194,\n",
              " 775,\n",
              " 7,\n",
              " 8255,\n",
              " 2,\n",
              " 349,\n",
              " 2637,\n",
              " 148,\n",
              " 605,\n",
              " 2,\n",
              " 8003,\n",
              " 15,\n",
              " 123,\n",
              " 125,\n",
              " 68,\n",
              " 2,\n",
              " 6853,\n",
              " 15,\n",
              " 349,\n",
              " 165,\n",
              " 4362,\n",
              " 98,\n",
              " 5,\n",
              " 4,\n",
              " 228,\n",
              " 9,\n",
              " 43,\n",
              " 2,\n",
              " 1157,\n",
              " 15,\n",
              " 299,\n",
              " 120,\n",
              " 5,\n",
              " 120,\n",
              " 174,\n",
              " 11,\n",
              " 220,\n",
              " 175,\n",
              " 136,\n",
              " 50,\n",
              " 9,\n",
              " 4373,\n",
              " 228,\n",
              " 8255,\n",
              " 5,\n",
              " 2,\n",
              " 656,\n",
              " 245,\n",
              " 2350,\n",
              " 5,\n",
              " 4,\n",
              " 9837,\n",
              " 131,\n",
              " 152,\n",
              " 491,\n",
              " 18,\n",
              " 2,\n",
              " 32,\n",
              " 7464,\n",
              " 1212,\n",
              " 14,\n",
              " 9,\n",
              " 6,\n",
              " 371,\n",
              " 78,\n",
              " 22,\n",
              " 625,\n",
              " 64,\n",
              " 1382,\n",
              " 9,\n",
              " 8,\n",
              " 168,\n",
              " 145,\n",
              " 23,\n",
              " 4,\n",
              " 1690,\n",
              " 15,\n",
              " 16,\n",
              " 4,\n",
              " 1355,\n",
              " 5,\n",
              " 28,\n",
              " 6,\n",
              " 52,\n",
              " 154,\n",
              " 462,\n",
              " 33,\n",
              " 89,\n",
              " 78,\n",
              " 285,\n",
              " 16,\n",
              " 145,\n",
              " 95]"
            ]
          },
          "metadata": {
            "tags": []
          },
          "execution_count": 2
        }
      ]
    },
    {
      "cell_type": "code",
      "metadata": {
        "id": "HxrizoYiqyon",
        "colab_type": "code",
        "outputId": "767643ed-289c-4af1-bbfa-0433cfffd6ef",
        "colab": {
          "base_uri": "https://localhost:8080/",
          "height": 1000
        }
      },
      "source": [
        "test_data[1]"
      ],
      "execution_count": 0,
      "outputs": [
        {
          "output_type": "execute_result",
          "data": {
            "text/plain": [
              "[1,\n",
              " 14,\n",
              " 22,\n",
              " 3443,\n",
              " 6,\n",
              " 176,\n",
              " 7,\n",
              " 5063,\n",
              " 88,\n",
              " 12,\n",
              " 2679,\n",
              " 23,\n",
              " 1310,\n",
              " 5,\n",
              " 109,\n",
              " 943,\n",
              " 4,\n",
              " 114,\n",
              " 9,\n",
              " 55,\n",
              " 606,\n",
              " 5,\n",
              " 111,\n",
              " 7,\n",
              " 4,\n",
              " 139,\n",
              " 193,\n",
              " 273,\n",
              " 23,\n",
              " 4,\n",
              " 172,\n",
              " 270,\n",
              " 11,\n",
              " 7216,\n",
              " 2,\n",
              " 4,\n",
              " 8463,\n",
              " 2801,\n",
              " 109,\n",
              " 1603,\n",
              " 21,\n",
              " 4,\n",
              " 22,\n",
              " 3861,\n",
              " 8,\n",
              " 6,\n",
              " 1193,\n",
              " 1330,\n",
              " 10,\n",
              " 10,\n",
              " 4,\n",
              " 105,\n",
              " 987,\n",
              " 35,\n",
              " 841,\n",
              " 2,\n",
              " 19,\n",
              " 861,\n",
              " 1074,\n",
              " 5,\n",
              " 1987,\n",
              " 2,\n",
              " 45,\n",
              " 55,\n",
              " 221,\n",
              " 15,\n",
              " 670,\n",
              " 5304,\n",
              " 526,\n",
              " 14,\n",
              " 1069,\n",
              " 4,\n",
              " 405,\n",
              " 5,\n",
              " 2438,\n",
              " 7,\n",
              " 27,\n",
              " 85,\n",
              " 108,\n",
              " 131,\n",
              " 4,\n",
              " 5045,\n",
              " 5304,\n",
              " 3884,\n",
              " 405,\n",
              " 9,\n",
              " 3523,\n",
              " 133,\n",
              " 5,\n",
              " 50,\n",
              " 13,\n",
              " 104,\n",
              " 51,\n",
              " 66,\n",
              " 166,\n",
              " 14,\n",
              " 22,\n",
              " 157,\n",
              " 9,\n",
              " 4,\n",
              " 530,\n",
              " 239,\n",
              " 34,\n",
              " 8463,\n",
              " 2801,\n",
              " 45,\n",
              " 407,\n",
              " 31,\n",
              " 7,\n",
              " 41,\n",
              " 3778,\n",
              " 105,\n",
              " 21,\n",
              " 59,\n",
              " 299,\n",
              " 12,\n",
              " 38,\n",
              " 950,\n",
              " 5,\n",
              " 4521,\n",
              " 15,\n",
              " 45,\n",
              " 629,\n",
              " 488,\n",
              " 2733,\n",
              " 127,\n",
              " 6,\n",
              " 52,\n",
              " 292,\n",
              " 17,\n",
              " 4,\n",
              " 6936,\n",
              " 185,\n",
              " 132,\n",
              " 1988,\n",
              " 5304,\n",
              " 1799,\n",
              " 488,\n",
              " 2693,\n",
              " 47,\n",
              " 6,\n",
              " 392,\n",
              " 173,\n",
              " 4,\n",
              " 2,\n",
              " 4378,\n",
              " 270,\n",
              " 2352,\n",
              " 4,\n",
              " 1500,\n",
              " 7,\n",
              " 4,\n",
              " 65,\n",
              " 55,\n",
              " 73,\n",
              " 11,\n",
              " 346,\n",
              " 14,\n",
              " 20,\n",
              " 9,\n",
              " 6,\n",
              " 976,\n",
              " 2078,\n",
              " 7,\n",
              " 5293,\n",
              " 861,\n",
              " 2,\n",
              " 5,\n",
              " 4182,\n",
              " 30,\n",
              " 3127,\n",
              " 2,\n",
              " 56,\n",
              " 4,\n",
              " 841,\n",
              " 5,\n",
              " 990,\n",
              " 692,\n",
              " 8,\n",
              " 4,\n",
              " 1669,\n",
              " 398,\n",
              " 229,\n",
              " 10,\n",
              " 10,\n",
              " 13,\n",
              " 2822,\n",
              " 670,\n",
              " 5304,\n",
              " 14,\n",
              " 9,\n",
              " 31,\n",
              " 7,\n",
              " 27,\n",
              " 111,\n",
              " 108,\n",
              " 15,\n",
              " 2033,\n",
              " 19,\n",
              " 7836,\n",
              " 1429,\n",
              " 875,\n",
              " 551,\n",
              " 14,\n",
              " 22,\n",
              " 9,\n",
              " 1193,\n",
              " 21,\n",
              " 45,\n",
              " 4829,\n",
              " 5,\n",
              " 45,\n",
              " 252,\n",
              " 8,\n",
              " 2,\n",
              " 6,\n",
              " 565,\n",
              " 921,\n",
              " 3639,\n",
              " 39,\n",
              " 4,\n",
              " 529,\n",
              " 48,\n",
              " 25,\n",
              " 181,\n",
              " 8,\n",
              " 67,\n",
              " 35,\n",
              " 1732,\n",
              " 22,\n",
              " 49,\n",
              " 238,\n",
              " 60,\n",
              " 135,\n",
              " 1162,\n",
              " 14,\n",
              " 9,\n",
              " 290,\n",
              " 4,\n",
              " 58,\n",
              " 10,\n",
              " 10,\n",
              " 472,\n",
              " 45,\n",
              " 55,\n",
              " 878,\n",
              " 8,\n",
              " 169,\n",
              " 11,\n",
              " 374,\n",
              " 5687,\n",
              " 25,\n",
              " 203,\n",
              " 28,\n",
              " 8,\n",
              " 818,\n",
              " 12,\n",
              " 125,\n",
              " 4,\n",
              " 3077]"
            ]
          },
          "metadata": {
            "tags": []
          },
          "execution_count": 4
        }
      ]
    },
    {
      "cell_type": "code",
      "metadata": {
        "id": "w0IFpWQGq1tM",
        "colab_type": "code",
        "outputId": "cc08cf64-587c-479f-9eaf-0815f5d17a2c",
        "colab": {
          "base_uri": "https://localhost:8080/",
          "height": 34
        }
      },
      "source": [
        "train_labels[1]"
      ],
      "execution_count": 0,
      "outputs": [
        {
          "output_type": "execute_result",
          "data": {
            "text/plain": [
              "0"
            ]
          },
          "metadata": {
            "tags": []
          },
          "execution_count": 5
        }
      ]
    },
    {
      "cell_type": "code",
      "metadata": {
        "id": "BEIfWSicq6dZ",
        "colab_type": "code",
        "outputId": "489fb375-aedd-470c-9f6c-10abbd8df397",
        "colab": {
          "base_uri": "https://localhost:8080/",
          "height": 34
        }
      },
      "source": [
        "test_labels[1]"
      ],
      "execution_count": 0,
      "outputs": [
        {
          "output_type": "execute_result",
          "data": {
            "text/plain": [
              "1"
            ]
          },
          "metadata": {
            "tags": []
          },
          "execution_count": 6
        }
      ]
    },
    {
      "cell_type": "code",
      "metadata": {
        "id": "aEht_Tciq8ed",
        "colab_type": "code",
        "outputId": "228fc2a9-719c-4587-d740-656b50ca88ee",
        "colab": {
          "base_uri": "https://localhost:8080/",
          "height": 34
        }
      },
      "source": [
        "max([max(sequence) for sequence in train_data])"
      ],
      "execution_count": 0,
      "outputs": [
        {
          "output_type": "execute_result",
          "data": {
            "text/plain": [
              "9999"
            ]
          },
          "metadata": {
            "tags": []
          },
          "execution_count": 7
        }
      ]
    },
    {
      "cell_type": "code",
      "metadata": {
        "id": "obpiwe3erHCb",
        "colab_type": "code",
        "outputId": "e7150132-a648-42e5-d151-1d95d24bec72",
        "colab": {
          "base_uri": "https://localhost:8080/",
          "height": 34
        }
      },
      "source": [
        "min([min(sequence) for sequence in train_data])"
      ],
      "execution_count": 0,
      "outputs": [
        {
          "output_type": "execute_result",
          "data": {
            "text/plain": [
              "1"
            ]
          },
          "metadata": {
            "tags": []
          },
          "execution_count": 8
        }
      ]
    },
    {
      "cell_type": "code",
      "metadata": {
        "id": "-j7keG09rMHp",
        "colab_type": "code",
        "outputId": "c89c014f-5a74-4d73-8441-75d827a65dd2",
        "colab": {
          "base_uri": "https://localhost:8080/",
          "height": 34
        }
      },
      "source": [
        "min([min(sequence) for sequence in test_data])"
      ],
      "execution_count": 0,
      "outputs": [
        {
          "output_type": "execute_result",
          "data": {
            "text/plain": [
              "1"
            ]
          },
          "metadata": {
            "tags": []
          },
          "execution_count": 10
        }
      ]
    },
    {
      "cell_type": "code",
      "metadata": {
        "id": "pDXJBXjQrSia",
        "colab_type": "code",
        "outputId": "66d490e3-5332-49ea-d3aa-d69943785441",
        "colab": {
          "base_uri": "https://localhost:8080/",
          "height": 34
        }
      },
      "source": [
        "max([max(sequence) for sequence in test_data])"
      ],
      "execution_count": 0,
      "outputs": [
        {
          "output_type": "execute_result",
          "data": {
            "text/plain": [
              "9999"
            ]
          },
          "metadata": {
            "tags": []
          },
          "execution_count": 12
        }
      ]
    },
    {
      "cell_type": "code",
      "metadata": {
        "id": "BYpThc1Grd9N",
        "colab_type": "code",
        "outputId": "ad078dd7-d13f-4637-dbf5-9f9cdecfa795",
        "colab": {
          "base_uri": "https://localhost:8080/",
          "height": 52
        }
      },
      "source": [
        "word_index = imdb.get_word_index()\n",
        "reverse_word_index = dict([(value, key) for (key, value) in word_index.items()])\n",
        "decode_review = \"\".join([reverse_word_index.get(i-3 , '?') for i in train_data[0]])"
      ],
      "execution_count": 0,
      "outputs": [
        {
          "output_type": "stream",
          "text": [
            "Downloading data from https://s3.amazonaws.com/text-datasets/imdb_word_index.json\n",
            "1646592/1641221 [==============================] - 0s 0us/step\n"
          ],
          "name": "stdout"
        }
      ]
    },
    {
      "cell_type": "code",
      "metadata": {
        "id": "zHRuAKBBtX1K",
        "colab_type": "code",
        "colab": {}
      },
      "source": [
        "import numpy as np\n",
        "def vectorize_sequences(sequences , dimension = 10000):\n",
        "  results = np.zeros((len(sequences) , dimension))\n",
        "  for i, sequence in enumerate(sequences):\n",
        "    results[i , sequence]=1.\n",
        "  return results"
      ],
      "execution_count": 0,
      "outputs": []
    },
    {
      "cell_type": "code",
      "metadata": {
        "id": "cunv-owct4Qi",
        "colab_type": "code",
        "colab": {}
      },
      "source": [
        "x_train = vectorize_sequences(train_data)\n",
        "x_test = vectorize_sequences(test_data)"
      ],
      "execution_count": 0,
      "outputs": []
    },
    {
      "cell_type": "code",
      "metadata": {
        "id": "wn5sMUsiuExw",
        "colab_type": "code",
        "colab": {}
      },
      "source": [
        "y_train = np.asarray(train_labels).astype('float32')\n",
        "y_test = np.asarray(test_labels).astype('float32')"
      ],
      "execution_count": 0,
      "outputs": []
    },
    {
      "cell_type": "code",
      "metadata": {
        "id": "5D9ExEsHuonC",
        "colab_type": "code",
        "colab": {}
      },
      "source": [
        "from keras import models\n",
        "from keras import layers\n",
        "\n",
        "model = models.Sequential()\n",
        "model.add(layers.Dense(32, activation='tanh' , input_shape=(10000,)))\n",
        "model.add(layers.Dense(1, activation = 'sigmoid'))"
      ],
      "execution_count": 0,
      "outputs": []
    },
    {
      "cell_type": "code",
      "metadata": {
        "id": "WR3S5uMlvvEI",
        "colab_type": "code",
        "colab": {}
      },
      "source": [
        "#compile \n",
        "from keras import optimizers\n",
        "model.compile(optimizer=optimizers.RMSprop(lr=0.001) , loss = 'binary_crossentropy' , metrics =['acc'])"
      ],
      "execution_count": 0,
      "outputs": []
    },
    {
      "cell_type": "code",
      "metadata": {
        "id": "kM2hiL8dwVLg",
        "colab_type": "code",
        "colab": {}
      },
      "source": [
        "from keras import losses \n",
        "from keras import metrics\n",
        "\n",
        "model.compile(optimizer = optimizers.RMSprop(lr=0.001) , loss = losses.binary_crossentropy, metrics = [metrics.binary_accuracy])"
      ],
      "execution_count": 0,
      "outputs": []
    },
    {
      "cell_type": "code",
      "metadata": {
        "id": "-GEIhp5owRop",
        "colab_type": "code",
        "colab": {}
      },
      "source": [
        "#Validating \n",
        "x_val = x_train[:10000]\n",
        "partial_x_train= x_train[10000:]"
      ],
      "execution_count": 0,
      "outputs": []
    },
    {
      "cell_type": "code",
      "metadata": {
        "id": "gyBjHSv1xeXf",
        "colab_type": "code",
        "colab": {}
      },
      "source": [
        "y_val = y_train[:10000]\n",
        "partial_y_train = y_train[10000:]"
      ],
      "execution_count": 0,
      "outputs": []
    },
    {
      "cell_type": "code",
      "metadata": {
        "id": "08cwOGwGxpCr",
        "colab_type": "code",
        "outputId": "aca001fb-a40c-47c4-c7a0-f525dd7fa60a",
        "colab": {
          "base_uri": "https://localhost:8080/",
          "height": 132
        }
      },
      "source": [
        "#history #Training you model\n",
        "\n",
        "history = model.fit(partial_x_train , partial_y_train ,epochs=10 , batch_size=1024 ,validation_data(x_val , y_val))"
      ],
      "execution_count": 0,
      "outputs": [
        {
          "output_type": "error",
          "ename": "SyntaxError",
          "evalue": "ignored",
          "traceback": [
            "\u001b[0;36m  File \u001b[0;32m\"<ipython-input-35-b43b6e70199f>\"\u001b[0;36m, line \u001b[0;32m2\u001b[0m\n\u001b[0;31m    history = model.fit(partial_x_train , partial_y_train ,epochs=10 , batch_size=1024 ,validation_data(x_val , y_val))\u001b[0m\n\u001b[0m                                                                                       ^\u001b[0m\n\u001b[0;31mSyntaxError\u001b[0m\u001b[0;31m:\u001b[0m positional argument follows keyword argument\n"
          ]
        }
      ]
    },
    {
      "cell_type": "code",
      "metadata": {
        "id": "Jmbej7CTyLse",
        "colab_type": "code",
        "outputId": "a355ca23-f71f-4c28-9014-fad2b088b0ac",
        "colab": {
          "base_uri": "https://localhost:8080/",
          "height": 567
        }
      },
      "source": [
        "history = model.fit(partial_x_train,\n",
        "                   partial_y_train,\n",
        "                   epochs= 15,\n",
        "                   batch_size = 512,\n",
        "                   validation_data = (x_val , y_val))"
      ],
      "execution_count": 0,
      "outputs": [
        {
          "output_type": "stream",
          "text": [
            "Train on 15000 samples, validate on 10000 samples\n",
            "Epoch 1/15\n",
            "15000/15000 [==============================] - 3s 226us/step - loss: 0.0174 - binary_accuracy: 0.9977 - val_loss: 0.5677 - val_binary_accuracy: 0.8668\n",
            "Epoch 2/15\n",
            "15000/15000 [==============================] - 2s 157us/step - loss: 0.0135 - binary_accuracy: 0.9978 - val_loss: 0.6095 - val_binary_accuracy: 0.8650\n",
            "Epoch 3/15\n",
            "15000/15000 [==============================] - 2s 155us/step - loss: 0.0082 - binary_accuracy: 0.9995 - val_loss: 0.6390 - val_binary_accuracy: 0.8635\n",
            "Epoch 4/15\n",
            "15000/15000 [==============================] - 2s 155us/step - loss: 0.0101 - binary_accuracy: 0.9984 - val_loss: 0.6688 - val_binary_accuracy: 0.8647\n",
            "Epoch 5/15\n",
            "15000/15000 [==============================] - 2s 154us/step - loss: 0.0082 - binary_accuracy: 0.9986 - val_loss: 0.7013 - val_binary_accuracy: 0.8638\n",
            "Epoch 6/15\n",
            "15000/15000 [==============================] - 2s 157us/step - loss: 0.0036 - binary_accuracy: 0.9999 - val_loss: 0.7288 - val_binary_accuracy: 0.8616\n",
            "Epoch 7/15\n",
            "15000/15000 [==============================] - 2s 157us/step - loss: 0.0054 - binary_accuracy: 0.9993 - val_loss: 0.7643 - val_binary_accuracy: 0.8620\n",
            "Epoch 8/15\n",
            "15000/15000 [==============================] - 2s 156us/step - loss: 0.0021 - binary_accuracy: 0.9999 - val_loss: 0.7985 - val_binary_accuracy: 0.8602\n",
            "Epoch 9/15\n",
            "15000/15000 [==============================] - 2s 155us/step - loss: 0.0054 - binary_accuracy: 0.9984 - val_loss: 0.8282 - val_binary_accuracy: 0.8601\n",
            "Epoch 10/15\n",
            "15000/15000 [==============================] - 2s 152us/step - loss: 0.0012 - binary_accuracy: 0.9999 - val_loss: 0.8555 - val_binary_accuracy: 0.8600\n",
            "Epoch 11/15\n",
            "15000/15000 [==============================] - 2s 153us/step - loss: 0.0028 - binary_accuracy: 0.9993 - val_loss: 0.8910 - val_binary_accuracy: 0.8597\n",
            "Epoch 12/15\n",
            "15000/15000 [==============================] - 2s 156us/step - loss: 7.2940e-04 - binary_accuracy: 1.0000 - val_loss: 0.9176 - val_binary_accuracy: 0.8580\n",
            "Epoch 13/15\n",
            "15000/15000 [==============================] - 2s 158us/step - loss: 6.2542e-04 - binary_accuracy: 1.0000 - val_loss: 1.0661 - val_binary_accuracy: 0.8441\n",
            "Epoch 14/15\n",
            "15000/15000 [==============================] - 2s 155us/step - loss: 8.8201e-04 - binary_accuracy: 0.9999 - val_loss: 0.9869 - val_binary_accuracy: 0.8565\n",
            "Epoch 15/15\n",
            "15000/15000 [==============================] - 2s 155us/step - loss: 0.0020 - binary_accuracy: 0.9997 - val_loss: 1.0136 - val_binary_accuracy: 0.8573\n"
          ],
          "name": "stdout"
        }
      ]
    },
    {
      "cell_type": "code",
      "metadata": {
        "id": "TXT5E1ve0REX",
        "colab_type": "code",
        "outputId": "c053f356-ab1c-49af-e88e-bfb4fa9132c4",
        "colab": {
          "base_uri": "https://localhost:8080/",
          "height": 34
        }
      },
      "source": [
        "history_dict = history.history\n",
        "history_dict.keys()\n"
      ],
      "execution_count": 0,
      "outputs": [
        {
          "output_type": "execute_result",
          "data": {
            "text/plain": [
              "dict_keys(['val_loss', 'val_binary_accuracy', 'loss', 'binary_accuracy'])"
            ]
          },
          "metadata": {
            "tags": []
          },
          "execution_count": 37
        }
      ]
    },
    {
      "cell_type": "code",
      "metadata": {
        "id": "RtYDtyhZ0yE-",
        "colab_type": "code",
        "colab": {}
      },
      "source": [
        "import matplotlib.pyplot as plt\n",
        "\n",
        "history_dict= history.history\n",
        "loss_values = history_dict['val_loss']\n",
        "val_loss_values = history_dict['loss']\n",
        "\n",
        "#epochs = range(1, len(val_binary_accuracy) +1)\n",
        "\n",
        "#plt.plot(epochs , loss_values, 'bo' , label='Training loss')\n",
        "#plt.plot(epochs, val_loss_values, 'b' , label='Validation loss')\n",
        "#plt.title('Training and Validation loss')\n",
        "#plt.xlabel('Epoch')\n",
        "#plt.ylabel('loss')\n",
        "#plt.legend()\n",
        "\n",
        "#plt.show()"
      ],
      "execution_count": 0,
      "outputs": []
    },
    {
      "cell_type": "code",
      "metadata": {
        "id": "1wWHqu1P1FGF",
        "colab_type": "code",
        "colab": {}
      },
      "source": [
        "epochs = range(1, len(loss_values) +1)"
      ],
      "execution_count": 0,
      "outputs": []
    },
    {
      "cell_type": "code",
      "metadata": {
        "id": "jwAFrCkq30QO",
        "colab_type": "code",
        "outputId": "11302c2e-384e-4e6e-b5ed-924ad0d82007",
        "colab": {
          "base_uri": "https://localhost:8080/",
          "height": 286
        }
      },
      "source": [
        "plt.plot(epochs, loss_values , 'bo' , label='Training loss')"
      ],
      "execution_count": 0,
      "outputs": [
        {
          "output_type": "execute_result",
          "data": {
            "text/plain": [
              "[<matplotlib.lines.Line2D at 0x7f2f9a1731d0>]"
            ]
          },
          "metadata": {
            "tags": []
          },
          "execution_count": 50
        },
        {
          "output_type": "display_data",
          "data": {
            "image/png": "[encoded data removed]",
            "text/plain": [
              "<Figure size 432x288 with 1 Axes>"
            ]
          },
          "metadata": {
            "tags": []
          }
        }
      ]
    },
    {
      "cell_type": "code",
      "metadata": {
        "id": "8AEWlDY26g7h",
        "colab_type": "code",
        "outputId": "12d9386d-24e4-4bfe-ce30-ae483f180199",
        "colab": {
          "base_uri": "https://localhost:8080/",
          "height": 286
        }
      },
      "source": [
        "plt.plot(epochs , val_loss_values , 'b' , label='Validation loss')"
      ],
      "execution_count": 0,
      "outputs": [
        {
          "output_type": "execute_result",
          "data": {
            "text/plain": [
              "[<matplotlib.lines.Line2D at 0x7f2f9a07d240>]"
            ]
          },
          "metadata": {
            "tags": []
          },
          "execution_count": 51
        },
        {
          "output_type": "display_data",
          "data": {
            "image/png": "[encoded data removed]",
            "text/plain": [
              "<Figure size 432x288 with 1 Axes>"
            ]
          },
          "metadata": {
            "tags": []
          }
        }
      ]
    },
    {
      "cell_type": "code",
      "metadata": {
        "id": "VIUQDWOE6utI",
        "colab_type": "code",
        "outputId": "3174cee0-5d1c-4bee-bc35-2ded30dd88a2",
        "colab": {
          "base_uri": "https://localhost:8080/",
          "height": 312
        }
      },
      "source": [
        "plt.title('Training and Validation loss')\n",
        "plt.xlabel(\"Epochs\")\n",
        "plt.ylabel('Loss')\n",
        "plt.legend()\n",
        "\n",
        "plt.show()"
      ],
      "execution_count": 0,
      "outputs": [
        {
          "output_type": "stream",
          "text": [
            "W0727 19:33:27.366546 139843409844096 legend.py:1289] No handles with labels found to put in legend.\n"
          ],
          "name": "stderr"
        },
        {
          "output_type": "display_data",
          "data": {
            "image/png": "[encoded data removed]",
            "text/plain": [
              "<Figure size 432x288 with 1 Axes>"
            ]
          },
          "metadata": {
            "tags": []
          }
        }
      ]
    },
    {
      "cell_type": "code",
      "metadata": {
        "id": "ZrXwRckH6-Kc",
        "colab_type": "code",
        "outputId": "dffa6379-c9c1-4586-d4c6-1249dfc96f30",
        "colab": {
          "base_uri": "https://localhost:8080/",
          "height": 294
        }
      },
      "source": [
        "import matplotlib.pyplot as plt\n",
        "\n",
        "history_dict= history.history\n",
        "loss_values = history_dict['val_loss']\n",
        "val_loss_values = history_dict['loss']\n",
        "\n",
        "epochs = range(1, len(loss_values) +1)\n",
        "plt.plot(epochs, loss_values , 'bo' , label='Training loss')\n",
        "plt.plot(epochs , val_loss_values , 'b' , label='Validation loss')\n",
        "plt.title('Training and Validation loss')\n",
        "plt.xlabel(\"Epochs\")\n",
        "plt.ylabel('Loss')\n",
        "plt.legend()\n",
        "\n",
        "plt.show()"
      ],
      "execution_count": 0,
      "outputs": [
        {
          "output_type": "display_data",
          "data": {
            "image/png": "[encoded data removed]",
            "text/plain": [
              "<Figure size 432x288 with 1 Axes>"
            ]
          },
          "metadata": {
            "tags": []
          }
        }
      ]
    },
    {
      "cell_type": "code",
      "metadata": {
        "id": "1IweNVob7q6e",
        "colab_type": "code",
        "outputId": "49e5842e-09ee-4d25-c7f0-415645dcd16c",
        "colab": {
          "base_uri": "https://localhost:8080/",
          "height": 221
        }
      },
      "source": [
        "plt.clf()\n",
        "acc_values = history_dict['acc']\n",
        "val_acc_values = history_dict['val_acc']\n"
      ],
      "execution_count": 0,
      "outputs": [
        {
          "output_type": "error",
          "ename": "KeyError",
          "evalue": "ignored",
          "traceback": [
            "\u001b[0;31m---------------------------------------------------------------------------\u001b[0m",
            "\u001b[0;31mKeyError\u001b[0m                                  Traceback (most recent call last)",
            "\u001b[0;32m<ipython-input-56-6c7b347e487b>\u001b[0m in \u001b[0;36m<module>\u001b[0;34m()\u001b[0m\n\u001b[1;32m      1\u001b[0m \u001b[0mplt\u001b[0m\u001b[0;34m.\u001b[0m\u001b[0mclf\u001b[0m\u001b[0;34m(\u001b[0m\u001b[0;34m)\u001b[0m\u001b[0;34m\u001b[0m\u001b[0;34m\u001b[0m\u001b[0m\n\u001b[0;32m----> 2\u001b[0;31m \u001b[0macc_values\u001b[0m \u001b[0;34m=\u001b[0m \u001b[0mhistory_dict\u001b[0m\u001b[0;34m[\u001b[0m\u001b[0;34m'acc'\u001b[0m\u001b[0;34m]\u001b[0m\u001b[0;34m\u001b[0m\u001b[0;34m\u001b[0m\u001b[0m\n\u001b[0m\u001b[1;32m      3\u001b[0m \u001b[0mval_acc_values\u001b[0m \u001b[0;34m=\u001b[0m \u001b[0mhistory_dict\u001b[0m\u001b[0;34m[\u001b[0m\u001b[0;34m'val_acc'\u001b[0m\u001b[0;34m]\u001b[0m\u001b[0;34m\u001b[0m\u001b[0;34m\u001b[0m\u001b[0m\n",
            "\u001b[0;31mKeyError\u001b[0m: 'acc'"
          ]
        },
        {
          "output_type": "display_data",
          "data": {
            "text/plain": [
              "<Figure size 432x288 with 0 Axes>"
            ]
          },
          "metadata": {
            "tags": []
          }
        }
      ]
    },
    {
      "cell_type": "code",
      "metadata": {
        "id": "yKHvmkhp78d2",
        "colab_type": "code",
        "colab": {}
      },
      "source": [
        ""
      ],
      "execution_count": 0,
      "outputs": []
    }
  ]
}